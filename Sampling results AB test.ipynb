{
 "cells": [
  {
   "cell_type": "code",
   "execution_count": 1,
   "metadata": {},
   "outputs": [],
   "source": [
    "# import libraries\n",
    "import pandas as pd\n",
    "import numpy as np"
   ]
  },
  {
   "cell_type": "code",
   "execution_count": 2,
   "metadata": {},
   "outputs": [],
   "source": [
    "# create two random datasets of 100 data points for sampling with conversion rates ('cr') per day for segments 'control' and 'var'\n",
    "# Conversion rates are created normally distributed random sample with a mean of 0.023 (control) and 0.026 (variation/var). \n",
    "# Standard deviation in control set is 0.002 and for variation set is 0.003\n",
    "\n",
    "data_control = {'date': pd.date_range(start = '2019-02-01', periods=100).tolist(), \n",
    " 'segment': 'control', \n",
    " 'cr': np.random.normal(loc=0.023, scale=0.002, size=100)}\n",
    "\n",
    "data_var = {'date': pd.date_range(start = '2019-02-01', periods=100).tolist(), \n",
    " 'segment': 'var', \n",
    " 'cr': np.random.normal(loc=0.026, scale=0.003, size=100)}"
   ]
  },
  {
   "cell_type": "code",
   "execution_count": 3,
   "metadata": {},
   "outputs": [],
   "source": [
    "# put data in dataframes\n",
    "df_control = pd.DataFrame(data_control, columns = ['date', 'segment', 'cr'])\n",
    "df_var = pd.DataFrame(data_var, columns = ['date', 'segment', 'cr'])"
   ]
  },
  {
   "cell_type": "code",
   "execution_count": 4,
   "metadata": {},
   "outputs": [
    {
     "data": {
      "text/html": [
       "<div>\n",
       "<style scoped>\n",
       "    .dataframe tbody tr th:only-of-type {\n",
       "        vertical-align: middle;\n",
       "    }\n",
       "\n",
       "    .dataframe tbody tr th {\n",
       "        vertical-align: top;\n",
       "    }\n",
       "\n",
       "    .dataframe thead th {\n",
       "        text-align: right;\n",
       "    }\n",
       "</style>\n",
       "<table border=\"1\" class=\"dataframe\">\n",
       "  <thead>\n",
       "    <tr style=\"text-align: right;\">\n",
       "      <th></th>\n",
       "      <th>date</th>\n",
       "      <th>segment</th>\n",
       "      <th>cr</th>\n",
       "    </tr>\n",
       "  </thead>\n",
       "  <tbody>\n",
       "    <tr>\n",
       "      <th>0</th>\n",
       "      <td>2019-02-01</td>\n",
       "      <td>control</td>\n",
       "      <td>0.020113</td>\n",
       "    </tr>\n",
       "    <tr>\n",
       "      <th>1</th>\n",
       "      <td>2019-02-02</td>\n",
       "      <td>control</td>\n",
       "      <td>0.019996</td>\n",
       "    </tr>\n",
       "    <tr>\n",
       "      <th>2</th>\n",
       "      <td>2019-02-03</td>\n",
       "      <td>control</td>\n",
       "      <td>0.023880</td>\n",
       "    </tr>\n",
       "    <tr>\n",
       "      <th>3</th>\n",
       "      <td>2019-02-04</td>\n",
       "      <td>control</td>\n",
       "      <td>0.023351</td>\n",
       "    </tr>\n",
       "    <tr>\n",
       "      <th>4</th>\n",
       "      <td>2019-02-05</td>\n",
       "      <td>control</td>\n",
       "      <td>0.024112</td>\n",
       "    </tr>\n",
       "  </tbody>\n",
       "</table>\n",
       "</div>"
      ],
      "text/plain": [
       "        date  segment        cr\n",
       "0 2019-02-01  control  0.020113\n",
       "1 2019-02-02  control  0.019996\n",
       "2 2019-02-03  control  0.023880\n",
       "3 2019-02-04  control  0.023351\n",
       "4 2019-02-05  control  0.024112"
      ]
     },
     "execution_count": 4,
     "metadata": {},
     "output_type": "execute_result"
    }
   ],
   "source": [
    "df_control.head()"
   ]
  },
  {
   "cell_type": "code",
   "execution_count": 5,
   "metadata": {},
   "outputs": [],
   "source": [
    "# remove negative numbers by raising them to the power of two and then taking their square root\n",
    "df_control['cr'] = np.sqrt(df_control['cr'] ** 2)\n",
    "df_var['cr'] = np.sqrt(df_var['cr'] ** 2)"
   ]
  },
  {
   "cell_type": "code",
   "execution_count": 6,
   "metadata": {},
   "outputs": [
    {
     "name": "stdout",
     "output_type": "stream",
     "text": [
      "0.025    0.002766\n",
      "0.975    0.004160\n",
      "dtype: float64\n"
     ]
    }
   ],
   "source": [
    "# create for loop for sampling both datasets and creating randomly sampled data sets. Add the difference between the means of the\n",
    "# sampled datasets in a list and take the quantiles from that for a confidence interval\n",
    "\n",
    "boot_mean_diff = []\n",
    "\n",
    "for a in range(10000):\n",
    "    control_sample = df_control['cr'].sample(frac=1, replace=True)\n",
    "    var_sample = df_var['cr'].sample(frac=1, replace=True)\n",
    "    boot_mean = (np.mean(var_sample) - np.mean(control_sample))\n",
    "    boot_mean_diff.append(boot_mean)\n",
    "    \n",
    "quantiles = pd.Series(boot_mean_diff).quantile([0.025, 0.975])\n",
    "print(quantiles)"
   ]
  },
  {
   "cell_type": "code",
   "execution_count": 7,
   "metadata": {},
   "outputs": [
    {
     "name": "stdout",
     "output_type": "stream",
     "text": [
      "0.025    0.276551\n",
      "0.975    0.416015\n",
      "dtype: float64\n"
     ]
    }
   ],
   "source": [
    "print(quantiles*100)"
   ]
  },
  {
   "cell_type": "code",
   "execution_count": 8,
   "metadata": {},
   "outputs": [],
   "source": [
    "# my results:\n",
    "# 0.025    0.276551\n",
    "# 0.975    0.416015"
   ]
  },
  {
   "cell_type": "code",
   "execution_count": 9,
   "metadata": {},
   "outputs": [],
   "source": [
    "# With 95% confidence we can say the variant test realizes an uplift of between 0.28% and 0.42% in conversion rate. The test \n",
    "# variant will be implemented!"
   ]
  }
 ],
 "metadata": {
  "kernelspec": {
   "display_name": "Python 3",
   "language": "python",
   "name": "python3"
  },
  "language_info": {
   "codemirror_mode": {
    "name": "ipython",
    "version": 3
   },
   "file_extension": ".py",
   "mimetype": "text/x-python",
   "name": "python",
   "nbconvert_exporter": "python",
   "pygments_lexer": "ipython3",
   "version": "3.6.5"
  }
 },
 "nbformat": 4,
 "nbformat_minor": 2
}
